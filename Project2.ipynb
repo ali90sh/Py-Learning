{
 "cells": [
  {
   "cell_type": "code",
   "execution_count": null,
   "id": "3dfc31da",
   "metadata": {},
   "outputs": [],
   "source": [
    "from bs4 import BeautifulSoup\n",
    "import re\n",
    "import mysql.connector\n",
    "from mysql.connector import Error\n",
    "import requests\n",
    "# from Ipython.display import clear_output"
   ]
  },
  {
   "cell_type": "code",
   "execution_count": 63,
   "id": "a85a68a2",
   "metadata": {},
   "outputs": [],
   "source": [
    "# MySQL connection configs\n",
    "DB_HOST = '127.0.0.1'\n",
    "DB_USER = 'test_user' \n",
    "DB_PASSWORD = 'StrongPass123!'\n",
    "DB_NAME = 'scraping'\n",
    "TBL_NAME = 'countries'"
   ]
  },
  {
   "cell_type": "code",
   "execution_count": 64,
   "id": "2806795c",
   "metadata": {},
   "outputs": [],
   "source": [
    "\n",
    "config = {\n",
    "  'user': DB_USER,\n",
    "  'password': DB_PASSWORD,\n",
    "  'host': DB_HOST,\n",
    "  'raise_on_warnings': True\n",
    "}"
   ]
  },
  {
   "cell_type": "code",
   "execution_count": 5,
   "id": "afd3f49e",
   "metadata": {},
   "outputs": [],
   "source": [
    "def check_database_existance(connection):\n",
    "    mycursor = connection.cursor(buffered = True)\n",
    "    mycursor.execute(\"SHOW DATABASES\")\n",
    "    \n",
    "    for db in mycursor:\n",
    "        if db[0] == DB_NAME:\n",
    "            return True\n",
    "    return False\n",
    "\n",
    "def check_table_exist(connection):\n",
    "    mycursor = connection.cursor(buffered = True)\n",
    "    mycursor.execute(\"SHOW TABLES\")\n",
    "    \n",
    "    for tbl in mycursor:\n",
    "        if tbl[0] == TBL_NAME:\n",
    "            return True\n",
    "    \n",
    "    return False\n"
   ]
  },
  {
   "cell_type": "code",
   "execution_count": 51,
   "id": "ee8f782d",
   "metadata": {},
   "outputs": [],
   "source": [
    "def init_mysql():\n",
    "    # Choosing db and connect to it\n",
    "    conn = mysql.connector.connect(**config)\n",
    "    cursor = conn.cursor(buffered= True)\n",
    "    # Creating database if not exist\n",
    "    if not check_database_existance(conn):\n",
    "        cursor.execute(f\"CREATE DATABASE IF NOT EXISTS {DB_NAME}\")\n",
    "    \n",
    "    conn.database = DB_NAME\n",
    "    # Creating table if not exist\n",
    "    if not check_table_exist(conn):\n",
    "        cursor.execute(f\"\"\"\n",
    "            CREATE TABLE IF NOT EXISTS {TBL_NAME} (\n",
    "                country VARCHAR(255) PRIMARY KEY,\n",
    "                capital VARCHAR(255) NOT NULL,\n",
    "                population INT,\n",
    "                area DECIMAL(10,1)\n",
    "            )\n",
    "        \"\"\")\n",
    "    conn.commit()\n",
    "    return conn\n"
   ]
  },
  {
   "cell_type": "code",
   "execution_count": 41,
   "id": "1c1e23d8",
   "metadata": {},
   "outputs": [
    {
     "name": "stdout",
     "output_type": "stream",
     "text": [
      "<Response [200]>\n"
     ]
    }
   ],
   "source": [
    "url = \"https://www.scrapethissite.com/pages/simple/\"\n",
    "req = requests.get(url)\n",
    "print(req)"
   ]
  },
  {
   "cell_type": "code",
   "execution_count": 42,
   "id": "288d9df8",
   "metadata": {},
   "outputs": [],
   "source": [
    "soup = BeautifulSoup(req.text, 'html.parser')"
   ]
  },
  {
   "cell_type": "code",
   "execution_count": 43,
   "id": "556b65f1",
   "metadata": {},
   "outputs": [],
   "source": [
    "countries = soup.find_all('div', attrs= {'class' : 'col-md-4 country'})\n",
    "records = []\n",
    "for country in countries:\n",
    "    country_name = country.find_all('h3', attrs= {'class' : 'country-name'})\n",
    "    country_capital = country.find_all('span', attrs= {'class' : 'country-capital'})\n",
    "    country_population = country.find_all('span', attrs= {'class' : 'country-population'})\n",
    "    country_area = country.find_all('span', attrs= {'class' : 'country-area'})\n",
    "    country_name_text = (re.sub(r'\\s', ' ', country_name[0].text)).strip()\n",
    "    country_capital_text = (re.sub(r'\\s', ' ', country_capital[0].text)).strip()\n",
    "    country_population_text = (re.sub(r'\\s', ' ', country_population[0].text)).strip()\n",
    "    country_area_text = (re.sub(r'\\s', ' ', country_area[0].text)).strip()\n",
    "    record = (country_name_text, country_capital_text, country_population_text, country_area_text)\n",
    "    records.append(record)"
   ]
  },
  {
   "cell_type": "code",
   "execution_count": 44,
   "id": "22870404",
   "metadata": {},
   "outputs": [],
   "source": [
    "def convert_to_decimal_one(s):\n",
    "\n",
    "    x = float(s)\n",
    "    return round(x, 1)\n",
    "\n",
    "def convert_to_integer(s):\n",
    "    \n",
    "    x = int(s)\n",
    "    return x"
   ]
  },
  {
   "cell_type": "code",
   "execution_count": 66,
   "id": "6e33db3b",
   "metadata": {},
   "outputs": [
    {
     "name": "stdout",
     "output_type": "stream",
     "text": [
      "Country already exist\n",
      "Country already exist\n",
      "Country already exist\n",
      "Country already exist\n",
      "Country already exist\n",
      "Country already exist\n",
      "Country already exist\n",
      "Country already exist\n",
      "Country already exist\n",
      "Country already exist\n",
      "Country already exist\n",
      "Country already exist\n",
      "Country already exist\n",
      "Country already exist\n",
      "Country already exist\n",
      "Country already exist\n",
      "Country already exist\n",
      "Country already exist\n",
      "Country already exist\n",
      "Country already exist\n",
      "Connection to database closed\n"
     ]
    }
   ],
   "source": [
    "try:\n",
    "    conn = init_mysql()\n",
    "    cursor = conn.cursor(buffered=True)\n",
    "    insert_query = '''INSERT INTO countries (country, capital, population, area)\n",
    "                    VALUES (%s, %s, %s, %s)\n",
    "                    '''\n",
    "    n = 0\n",
    "    for name, capital, population, area in records:\n",
    "        if n < 20:\n",
    "            try:\n",
    "                population = convert_to_integer(population)\n",
    "            except ValueError:\n",
    "                print(f'Wrong value for {name} population: {population}')\n",
    "                \n",
    "            try:\n",
    "                area = convert_to_decimal_one(area)\n",
    "            except ValueError:\n",
    "                print(f'Wrong value for {name} area: {area}')\n",
    "\n",
    "            try:\n",
    "                cursor.execute(insert_query, (name, capital, population, area))\n",
    "                n += 1\n",
    "            except Error as e:\n",
    "                if e.errno == 1062 and \"Duplicate entry\" in str(e):\n",
    "                    # clear_output()\n",
    "                    print('Country already exist')\n",
    "                    n += 1\n",
    "                else:\n",
    "                    print(f'Error in {name}: {e}')\n",
    "        else:\n",
    "            break\n",
    "except Error as conn_e:\n",
    "    print('Connection to MySQL error:', conn_e)\n",
    "finally:\n",
    "    if conn.is_connected():\n",
    "        conn.commit()\n",
    "        cursor.close()\n",
    "        conn.close()\n",
    "        print('Connection to database closed')"
   ]
  },
  {
   "cell_type": "code",
   "execution_count": null,
   "id": "21ec07de",
   "metadata": {},
   "outputs": [],
   "source": []
  }
 ],
 "metadata": {
  "kernelspec": {
   "display_name": "py-learning-HyBJN6qc-py3.10",
   "language": "python",
   "name": "python3"
  },
  "language_info": {
   "codemirror_mode": {
    "name": "ipython",
    "version": 3
   },
   "file_extension": ".py",
   "mimetype": "text/x-python",
   "name": "python",
   "nbconvert_exporter": "python",
   "pygments_lexer": "ipython3",
   "version": "3.10.0"
  }
 },
 "nbformat": 4,
 "nbformat_minor": 5
}
